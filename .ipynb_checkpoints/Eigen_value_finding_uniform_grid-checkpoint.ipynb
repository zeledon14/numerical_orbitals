{
 "cells": [
  {
   "cell_type": "code",
   "execution_count": 1,
   "metadata": {},
   "outputs": [],
   "source": [
    "import numpy as np\n",
    "import matplotlib.pyplot as plt\n",
    "import json\n",
    "import os\n",
    "plt.rcParams[\"figure.figsize\"] = (25,10)\n",
    "\n",
    "plt.rcParams.update({'font.size': 22})"
   ]
  },
  {
   "cell_type": "code",
   "execution_count": 2,
   "metadata": {},
   "outputs": [],
   "source": [
    "class WF_class():\n",
    "    def __init__(self, Ea,Eb,y_N, y_N_1, r_N, h, l, Z):\n",
    "        self.Ea= Ea\n",
    "        self.Eb= Eb\n",
    "        self.y_N= y_N\n",
    "        self.y_N_1= y_N_1\n",
    "        self.r_N= r_N\n",
    "        self.h=h\n",
    "        self.l=l\n",
    "        self.Z=Z\n",
    "        self.E=None\n",
    "        self.U_normalized=False\n",
    "        self.U=None\n",
    "        self.wf=None #normalized wave function\n",
    "            \n",
    "    def set_u_function_array(self,U_function_array):\n",
    "        self.U= U_function_array\n",
    "        \n",
    "    def set_R_array(self, R_array):\n",
    "        self.R_arra= R_array\n",
    "        \n",
    "    def check_if_eigenvalue(self):\n",
    "        if abs(self.Ea - self.Eb) > 1e-9:\n",
    "            return False\n",
    "        else:\n",
    "            self.E= (self.Ea + self.Eb)/2.0\n",
    "            return True\n",
    "        \n",
    "    def bild_normalized_wf(self):\n",
    "        temp= np.squeeze(np.array(self.U))**2.0\n",
    "        I=np.sum((self.h/2.0)*(temp[1:]+temp[:-1]))\n",
    "        I=I**0.5\n",
    "        self.wf=(1.0/I)*(np.squeeze(np.array(self.U))/np.squeeze(np.array(self.R_arra)))\n",
    "        self.U_normalized=True\n",
    "        self.U= (1.0/I)*np.squeeze(np.array(self.U))\n",
    "    \n",
    "    def save_as_json(self, path):\n",
    "        temp={'Ea':self.Ea, \n",
    "                'Eb':self.Eb,\n",
    "                'y_N':self.y_N, \n",
    "                'y_N_1':self.y_N_1,\n",
    "                'r_N':list(self.r_N),\n",
    "                'h':self.h,\n",
    "                'l':self.l,\n",
    "                'Z':self.Z,\n",
    "                'E':self.E,\n",
    "                'U_normalized':self.U_normalized,\n",
    "                'U':list(self.U),\n",
    "                'wf':list(self.wf)}\n",
    "        json.dump(temp, open(path, 'w'))\n",
    "    \n",
    "    def restore_from_json(self, path):\n",
    "        temp= json.load(open(path, 'r'))\n",
    "        self.Ea= temp['Ea']\n",
    "        self.Eb= temp['Eb']\n",
    "        self.y_N= temp['y_N']\n",
    "        self.y_N_1= temp['y_N_1']\n",
    "        self.r_N= np.array(temp['r_N'])\n",
    "        self.h=temp['h']\n",
    "        self.l=temp['l']\n",
    "        self.Z=temp['Z']\n",
    "        self.E=temp['E']\n",
    "        self.U_normalized=temp['U_normalized']\n",
    "        self.U=np.array(temp['U'])\n",
    "        self.wf=np.array(temp['wf'])\n",
    "        "
   ]
  },
  {
   "cell_type": "code",
   "execution_count": null,
   "metadata": {},
   "outputs": [],
   "source": []
  },
  {
   "cell_type": "code",
   "execution_count": 3,
   "metadata": {},
   "outputs": [],
   "source": [
    "def V_ext(r_n, Z):\n",
    "    return (-1.0*Z)/r_n\n",
    "\n",
    "def V_angular(r_n,l):\n",
    "    return (l*(l+1))/(2.0*(r_n**2.0))\n",
    "\n",
    "#def V_potential(r_n,Z,l):\n",
    "#    return V_ext(r_n, Z) - V_angular(r_n,l)\n",
    "\n",
    "def K2(E,r_n, l, Z):#specific to schrodinger equation's\n",
    "    return 2.0*(E - V_ext(r_n, Z) - V_angular(r_n,l))"
   ]
  },
  {
   "cell_type": "markdown",
   "metadata": {},
   "source": [
    "The Numerov algorithm:\n",
    "\n",
    "$ \\frac{\\Delta x^2}{12} \\Big[ s_{n+1} + 10s_{n} + s_{n-1} \\Big] = \\Big(1 + \\frac{\\Delta x^2 k^2_{n+1}}{12} \\Big)y_{n+1} -2 \\Big(1 - \\frac{5 \\Delta x^2 k^2_{n}}{12} \\Big)y_{n} + \\Big(1 + \\frac{\\Delta x^2 k^2_{n-1}}{12} \\Big)y_{n-1} + O(\\Delta x^6)$\n",
    "\n",
    "for Schrodinger equation the $s_n = 0$ for all $n$ then the Numerov alforithm\n",
    "\n",
    "$ 0 = \\Big(1 + \\frac{\\Delta x^2 k^2_{n+1}}{12} \\Big)y_{n+1} -2 \\Big(1 - \\frac{5 \\Delta x^2 k^2_{n}}{12} \\Big)y_{n} + \\Big(1 + \\frac{\\Delta x^2 k^2_{n-1}}{12} \\Big)y_{n-1} + O(\\Delta x^6)$\n",
    "\n",
    "Usign\n",
    "$G(\\Delta x, k^2_{n}, \\gamma) = \\Big(1 + \\frac{\\gamma \\Delta x^2 k^2_{n}}{12} \\Big)$\n",
    "\n",
    "Then Numerov\n",
    "\n",
    "$ 0 = G(\\Delta x, k^2_{n+1}, 1.0)y_{n+1} -2 G(\\Delta x, k^2_{n}, -5.0) y_{n} + G(\\Delta x, k^2_{n-1}, 1.0)y_{n-1} + O(\\Delta x^6)$\n",
    "\n"
   ]
  },
  {
   "cell_type": "markdown",
   "metadata": {},
   "source": [
    "Making the $n+1 => n$ making \n",
    "\n",
    "Then Numerov\n",
    "\n",
    "$ 0 = G(\\Delta x, k^2_{n}, 1.0)y_{n} -2 G(\\Delta x, k^2_{n-1}, -5.0) y_{n-1} + G(\\Delta x, k^2_{n-2}, 1.0)y_{n-2} + O(\\Delta x^6)$\n",
    "\n",
    "Arraiging the elements to find $y_{n-2}$\n",
    "\n",
    "$\\frac{2 G(\\Delta x, k^2_{n-1}, -5.0) y_{n-1} - G(\\Delta x, k^2_{n}, 1.0)y_{n}} {G(\\Delta x, k^2_{n-2}, 1.0)} = y_{n-2} $"
   ]
  },
  {
   "cell_type": "code",
   "execution_count": 4,
   "metadata": {},
   "outputs": [],
   "source": [
    "def G(h,K2, gamma=1.0):\n",
    "    temp= (1.0 + (gamma*(h**2.0)*K2)/12.0)\n",
    "    return temp\n",
    "def Numerov_backwards(y_N, y_N_1, r_N, E, h, l, Z):\n",
    "    #integrates a function starting at R_N\n",
    "    #finishing at r_0 != 0.0\n",
    "    r_n_2= r_N - 2.0*h\n",
    "    wf=[y_N, y_N_1]#wave function array\n",
    "    r_arra=[r_N, r_N-h]\n",
    "    n=0\n",
    "    while r_n_2>0.0:\n",
    "        K2n= K2(E,r_arra[n], l, Z)\n",
    "        K2n_1= K2(E,r_arra[n+1], l, Z)\n",
    "        K2n_2= K2(E,r_n_2, l, Z)\n",
    "        y_n_2= (2.0*G(h,K2n_1, gamma=-5.0)*wf[n+1] - G(h,K2n)*wf[n])/(G(h,K2n_2))\n",
    "        r_arra.append(r_n_2)\n",
    "        wf.append(y_n_2)\n",
    "        n+=1\n",
    "        r_n_2-=h\n",
    "    return np.flip(np.array(wf)), np.flip(np.array(r_arra))"
   ]
  },
  {
   "cell_type": "code",
   "execution_count": 5,
   "metadata": {},
   "outputs": [],
   "source": [
    "def get_nodes_information(f, x):\n",
    "    #input: f -> an f(x) array with the functions values\n",
    "    #input: x -> array with the x values\n",
    "    #output: number of nodes in f (wave function)\n",
    "    number_of_nodes=0\n",
    "    nodes_positions=[]\n",
    "    for i, _ in enumerate(f[:-1]):\n",
    "        if int(np.sign(f[i])) != int(np.sign(f[i+1])):\n",
    "            number_of_nodes+=1\n",
    "            nodes_positions.append((x[i], x[i+1]))\n",
    "    return number_of_nodes, nodes_positions"
   ]
  },
  {
   "cell_type": "code",
   "execution_count": 6,
   "metadata": {},
   "outputs": [],
   "source": [
    "h=0.001#delta_r\n",
    "#l=0 #angular momentum number\n",
    "Z=1.0# number of protons in atom\n",
    "r_N_arra=[15.0]#[18.0, 21.0, 25.0] #max radius of integration\n",
    "l_arra= [0]#[0, 1]\n",
    "y_N= 1.8e-8#U(r_N)\n",
    "y_N_1= 2.0e-8#0.0000001#U((r_N-h))\n"
   ]
  },
  {
   "cell_type": "code",
   "execution_count": 7,
   "metadata": {},
   "outputs": [],
   "source": [
    "E_arra= list(np.arange(-0.80, -0.01, 0.12))+ list(np.arange(-0.09, -0.009, 0.012)) + list(np.arange(-0.009, -0.0009, 0.0012))"
   ]
  },
  {
   "cell_type": "code",
   "execution_count": 8,
   "metadata": {},
   "outputs": [],
   "source": [
    "potential_eigen_func=[]\n",
    "for l in l_arra:\n",
    "    for r_N in r_N_arra:\n",
    "        U0=[]\n",
    "        for E_i in E_arra:\n",
    "            wf, r_arra= Numerov_backwards(y_N, y_N_1, r_N, E_i, h,  l, Z)\n",
    "            U0.append(wf[0])\n",
    "        number_of_nodes, nodes_positions= get_nodes_information(U0, E_arra)\n",
    "        if number_of_nodes > 0:\n",
    "            for elem in nodes_positions:\n",
    "                potential_eigen_func.append(WF_class(elem[0],elem[1],y_N, y_N_1, r_N, h, l,Z))"
   ]
  },
  {
   "cell_type": "code",
   "execution_count": 9,
   "metadata": {},
   "outputs": [],
   "source": [
    "def false_position(Ea,Eb,fa,fb):\n",
    "    return (Eb*fa - Ea*fb)/(fa - fb)"
   ]
  },
  {
   "cell_type": "code",
   "execution_count": 10,
   "metadata": {},
   "outputs": [
    {
     "name": "stdout",
     "output_type": "stream",
     "text": [
      "-0.56\n",
      "-0.44000000000000006\n",
      "________________________\n",
      "-0.20000000000000007\n",
      "-0.08000000000000007\n",
      "________________________\n",
      "-0.030000000000000013\n",
      "-0.018000000000000016\n",
      "________________________\n"
     ]
    }
   ],
   "source": [
    "for i in range(len(potential_eigen_func)):\n",
    "    print(potential_eigen_func[i].Ea)\n",
    "    print(potential_eigen_func[i].Eb)\n",
    "    print('________________________')"
   ]
  },
  {
   "cell_type": "code",
   "execution_count": 11,
   "metadata": {},
   "outputs": [],
   "source": [
    "if len(potential_eigen_func) > 0:\n",
    "    for wf_objc in potential_eigen_func:\n",
    "        while not wf_objc.check_if_eigenvalue():\n",
    "            wf, r_arra= Numerov_backwards(wf_objc.y_N, wf_objc.y_N_1, wf_objc.r_N, wf_objc.Ea, h,  l, Z)\n",
    "            U0a=wf[0]\n",
    "            wf, r_arra= Numerov_backwards(wf_objc.y_N, wf_objc.y_N_1, wf_objc.r_N, wf_objc.Eb, h,  l, Z)\n",
    "            U0b=wf[0]\n",
    "            Ep= false_position(wf_objc.Ea,wf_objc.Eb,U0a,U0b)\n",
    "            wf, r_arra= Numerov_backwards(wf_objc.y_N, wf_objc.y_N_1, wf_objc.r_N, Ep, h,  l, Z)\n",
    "            U0p=wf[0]\n",
    "            if np.sign(U0p) == np.sign(U0a):\n",
    "                wf_objc.Ea=Ep\n",
    "            else:# np.sign(U0p) == np.sign(U0b):\n",
    "                wf_objc.Eb=Ep\n",
    "    \n",
    "    for wf_objc in potential_eigen_func:\n",
    "        if wf_objc.E != None:\n",
    "            wf, r_arra= Numerov_backwards(wf_objc.y_N, wf_objc.y_N_1, wf_objc.r_N, wf_objc.E, h,  l, Z)\n",
    "            wf_objc.set_u_function_array(wf)\n",
    "            wf_objc.set_R_array(r_arra)\n",
    "            wf_objc.bild_normalized_wf()\n",
    "            \n",
    "            \n",
    "            "
   ]
  },
  {
   "cell_type": "code",
   "execution_count": 12,
   "metadata": {},
   "outputs": [],
   "source": [
    "#select the best wf for a given eigenvalue\n",
    "energy_reference=[]\n",
    "energy_groups=[]\n",
    "for i, i_wf_objc in enumerate(potential_eigen_func):\n",
    "    if i_wf_objc.E != None:\n",
    "        if len(energy_reference) == 0:\n",
    "            energy_reference.append(i_wf_objc.E)\n",
    "            temp_group=[i]\n",
    "            energy_groups.append(temp_group)\n",
    "        else:\n",
    "            reff_diff= np.abs(np.array(energy_reference) - i_wf_objc.E) < 1.5e-2\n",
    "            if True in reff_diff:\n",
    "                for j, elem in enumerate(reff_diff):\n",
    "                    if elem:\n",
    "                        energy_groups[j].append(i)\n",
    "            else:\n",
    "                energy_reference.append(i_wf_objc.E)\n",
    "                temp_group=[i]\n",
    "                energy_groups.append(temp_group)"
   ]
  },
  {
   "cell_type": "code",
   "execution_count": 13,
   "metadata": {},
   "outputs": [],
   "source": [
    "#elimitage groups of one element\n",
    "energy_groups=[group for group in energy_groups if len(group) > 0]"
   ]
  },
  {
   "cell_type": "code",
   "execution_count": 14,
   "metadata": {},
   "outputs": [
    {
     "name": "stdout",
     "output_type": "stream",
     "text": [
      "E  -0.49999966691600584\n",
      "U0 -4.017254786209691e-18\n",
      "++++++++++++++++++++++++++++++\n",
      "E  -0.12450204071783055\n",
      "U0 5.264437374566857e-19\n",
      "++++++++++++++++++++++++++++++\n",
      "E  -0.02695724482301105\n",
      "U0 -9.214475605218985e-17\n",
      "++++++++++++++++++++++++++++++\n"
     ]
    }
   ],
   "source": [
    "for group in energy_groups:\n",
    "    for elem in group:\n",
    "        print('E ', potential_eigen_func[elem].E)\n",
    "        print('U0', potential_eigen_func[elem].U[0])\n",
    "    print('++++++++++++++++++++++++++++++')"
   ]
  },
  {
   "cell_type": "code",
   "execution_count": 15,
   "metadata": {},
   "outputs": [],
   "source": [
    "#final selection\n",
    "eigen_funct=[]\n",
    "for group in energy_groups:\n",
    "    temp=[sum(potential_eigen_func[elem].U[-100:]) for elem in group]\n",
    "    eigen_funct.append(potential_eigen_func[group[np.argsort(temp)[0]]])"
   ]
  },
  {
   "cell_type": "code",
   "execution_count": 16,
   "metadata": {},
   "outputs": [
    {
     "ename": "TypeError",
     "evalue": "Object of type ndarray is not JSON serializable",
     "output_type": "error",
     "traceback": [
      "\u001b[0;31m---------------------------------------------------------------------------\u001b[0m",
      "\u001b[0;31mTypeError\u001b[0m                                 Traceback (most recent call last)",
      "\u001b[0;32m<ipython-input-16-dc68ae80dfaf>\u001b[0m in \u001b[0;36m<module>\u001b[0;34m\u001b[0m\n\u001b[1;32m      4\u001b[0m         \u001b[0mpath\u001b[0m\u001b[0;34m=\u001b[0m\u001b[0mos\u001b[0m\u001b[0;34m.\u001b[0m\u001b[0mpath\u001b[0m\u001b[0;34m.\u001b[0m\u001b[0mjoin\u001b[0m\u001b[0;34m(\u001b[0m\u001b[0msave_dir\u001b[0m\u001b[0;34m,\u001b[0m\u001b[0;34mf'Z_{wf_objc.Z}_E_{str(wf_objc.E)[:3]}_R_{str(wf_objc.r_N)[:3]}_l_{wf_objc.l}.json,'\u001b[0m\u001b[0;34m)\u001b[0m\u001b[0;34m\u001b[0m\u001b[0;34m\u001b[0m\u001b[0m\n\u001b[1;32m      5\u001b[0m \u001b[0;34m\u001b[0m\u001b[0m\n\u001b[0;32m----> 6\u001b[0;31m         \u001b[0mwf_objc\u001b[0m\u001b[0;34m.\u001b[0m\u001b[0msave_as_json\u001b[0m\u001b[0;34m(\u001b[0m\u001b[0mpath\u001b[0m\u001b[0;34m)\u001b[0m\u001b[0;34m\u001b[0m\u001b[0;34m\u001b[0m\u001b[0m\n\u001b[0m\u001b[1;32m      7\u001b[0m         \u001b[0mprint\u001b[0m\u001b[0;34m(\u001b[0m\u001b[0;34m'E'\u001b[0m\u001b[0;34m,\u001b[0m  \u001b[0mwf_objc\u001b[0m\u001b[0;34m.\u001b[0m\u001b[0mE\u001b[0m\u001b[0;34m)\u001b[0m\u001b[0;34m\u001b[0m\u001b[0;34m\u001b[0m\u001b[0m\n\u001b[1;32m      8\u001b[0m         \u001b[0mprint\u001b[0m\u001b[0;34m(\u001b[0m\u001b[0;34m'l'\u001b[0m\u001b[0;34m,\u001b[0m  \u001b[0mwf_objc\u001b[0m\u001b[0;34m.\u001b[0m\u001b[0ml\u001b[0m\u001b[0;34m)\u001b[0m\u001b[0;34m\u001b[0m\u001b[0;34m\u001b[0m\u001b[0m\n",
      "\u001b[0;32m<ipython-input-2-f9c93ea4ed3a>\u001b[0m in \u001b[0;36msave_as_json\u001b[0;34m(self, path)\u001b[0m\n\u001b[1;32m     48\u001b[0m                 \u001b[0;34m'U'\u001b[0m\u001b[0;34m:\u001b[0m\u001b[0mself\u001b[0m\u001b[0;34m.\u001b[0m\u001b[0mU\u001b[0m\u001b[0;34m,\u001b[0m\u001b[0;34m\u001b[0m\u001b[0;34m\u001b[0m\u001b[0m\n\u001b[1;32m     49\u001b[0m                 'wf':self.wf}\n\u001b[0;32m---> 50\u001b[0;31m         \u001b[0mjson\u001b[0m\u001b[0;34m.\u001b[0m\u001b[0mdump\u001b[0m\u001b[0;34m(\u001b[0m\u001b[0mtemp\u001b[0m\u001b[0;34m,\u001b[0m \u001b[0mopen\u001b[0m\u001b[0;34m(\u001b[0m\u001b[0mpath\u001b[0m\u001b[0;34m,\u001b[0m \u001b[0;34m'w'\u001b[0m\u001b[0;34m)\u001b[0m\u001b[0;34m)\u001b[0m\u001b[0;34m\u001b[0m\u001b[0;34m\u001b[0m\u001b[0m\n\u001b[0m\u001b[1;32m     51\u001b[0m \u001b[0;34m\u001b[0m\u001b[0m\n\u001b[1;32m     52\u001b[0m     \u001b[0;32mdef\u001b[0m \u001b[0mrestore_from_json\u001b[0m\u001b[0;34m(\u001b[0m\u001b[0mself\u001b[0m\u001b[0;34m,\u001b[0m \u001b[0mpath\u001b[0m\u001b[0;34m)\u001b[0m\u001b[0;34m:\u001b[0m\u001b[0;34m\u001b[0m\u001b[0;34m\u001b[0m\u001b[0m\n",
      "\u001b[0;32m~/anaconda3/envs/nlp/lib/python3.8/json/__init__.py\u001b[0m in \u001b[0;36mdump\u001b[0;34m(obj, fp, skipkeys, ensure_ascii, check_circular, allow_nan, cls, indent, separators, default, sort_keys, **kw)\u001b[0m\n\u001b[1;32m    177\u001b[0m     \u001b[0;31m# could accelerate with writelines in some versions of Python, at\u001b[0m\u001b[0;34m\u001b[0m\u001b[0;34m\u001b[0m\u001b[0;34m\u001b[0m\u001b[0m\n\u001b[1;32m    178\u001b[0m     \u001b[0;31m# a debuggability cost\u001b[0m\u001b[0;34m\u001b[0m\u001b[0;34m\u001b[0m\u001b[0;34m\u001b[0m\u001b[0m\n\u001b[0;32m--> 179\u001b[0;31m     \u001b[0;32mfor\u001b[0m \u001b[0mchunk\u001b[0m \u001b[0;32min\u001b[0m \u001b[0miterable\u001b[0m\u001b[0;34m:\u001b[0m\u001b[0;34m\u001b[0m\u001b[0;34m\u001b[0m\u001b[0m\n\u001b[0m\u001b[1;32m    180\u001b[0m         \u001b[0mfp\u001b[0m\u001b[0;34m.\u001b[0m\u001b[0mwrite\u001b[0m\u001b[0;34m(\u001b[0m\u001b[0mchunk\u001b[0m\u001b[0;34m)\u001b[0m\u001b[0;34m\u001b[0m\u001b[0;34m\u001b[0m\u001b[0m\n\u001b[1;32m    181\u001b[0m \u001b[0;34m\u001b[0m\u001b[0m\n",
      "\u001b[0;32m~/anaconda3/envs/nlp/lib/python3.8/json/encoder.py\u001b[0m in \u001b[0;36m_iterencode\u001b[0;34m(o, _current_indent_level)\u001b[0m\n\u001b[1;32m    429\u001b[0m             \u001b[0;32myield\u001b[0m \u001b[0;32mfrom\u001b[0m \u001b[0m_iterencode_list\u001b[0m\u001b[0;34m(\u001b[0m\u001b[0mo\u001b[0m\u001b[0;34m,\u001b[0m \u001b[0m_current_indent_level\u001b[0m\u001b[0;34m)\u001b[0m\u001b[0;34m\u001b[0m\u001b[0;34m\u001b[0m\u001b[0m\n\u001b[1;32m    430\u001b[0m         \u001b[0;32melif\u001b[0m \u001b[0misinstance\u001b[0m\u001b[0;34m(\u001b[0m\u001b[0mo\u001b[0m\u001b[0;34m,\u001b[0m \u001b[0mdict\u001b[0m\u001b[0;34m)\u001b[0m\u001b[0;34m:\u001b[0m\u001b[0;34m\u001b[0m\u001b[0;34m\u001b[0m\u001b[0m\n\u001b[0;32m--> 431\u001b[0;31m             \u001b[0;32myield\u001b[0m \u001b[0;32mfrom\u001b[0m \u001b[0m_iterencode_dict\u001b[0m\u001b[0;34m(\u001b[0m\u001b[0mo\u001b[0m\u001b[0;34m,\u001b[0m \u001b[0m_current_indent_level\u001b[0m\u001b[0;34m)\u001b[0m\u001b[0;34m\u001b[0m\u001b[0;34m\u001b[0m\u001b[0m\n\u001b[0m\u001b[1;32m    432\u001b[0m         \u001b[0;32melse\u001b[0m\u001b[0;34m:\u001b[0m\u001b[0;34m\u001b[0m\u001b[0;34m\u001b[0m\u001b[0m\n\u001b[1;32m    433\u001b[0m             \u001b[0;32mif\u001b[0m \u001b[0mmarkers\u001b[0m \u001b[0;32mis\u001b[0m \u001b[0;32mnot\u001b[0m \u001b[0;32mNone\u001b[0m\u001b[0;34m:\u001b[0m\u001b[0;34m\u001b[0m\u001b[0;34m\u001b[0m\u001b[0m\n",
      "\u001b[0;32m~/anaconda3/envs/nlp/lib/python3.8/json/encoder.py\u001b[0m in \u001b[0;36m_iterencode_dict\u001b[0;34m(dct, _current_indent_level)\u001b[0m\n\u001b[1;32m    403\u001b[0m                 \u001b[0;32melse\u001b[0m\u001b[0;34m:\u001b[0m\u001b[0;34m\u001b[0m\u001b[0;34m\u001b[0m\u001b[0m\n\u001b[1;32m    404\u001b[0m                     \u001b[0mchunks\u001b[0m \u001b[0;34m=\u001b[0m \u001b[0m_iterencode\u001b[0m\u001b[0;34m(\u001b[0m\u001b[0mvalue\u001b[0m\u001b[0;34m,\u001b[0m \u001b[0m_current_indent_level\u001b[0m\u001b[0;34m)\u001b[0m\u001b[0;34m\u001b[0m\u001b[0;34m\u001b[0m\u001b[0m\n\u001b[0;32m--> 405\u001b[0;31m                 \u001b[0;32myield\u001b[0m \u001b[0;32mfrom\u001b[0m \u001b[0mchunks\u001b[0m\u001b[0;34m\u001b[0m\u001b[0;34m\u001b[0m\u001b[0m\n\u001b[0m\u001b[1;32m    406\u001b[0m         \u001b[0;32mif\u001b[0m \u001b[0mnewline_indent\u001b[0m \u001b[0;32mis\u001b[0m \u001b[0;32mnot\u001b[0m \u001b[0;32mNone\u001b[0m\u001b[0;34m:\u001b[0m\u001b[0;34m\u001b[0m\u001b[0;34m\u001b[0m\u001b[0m\n\u001b[1;32m    407\u001b[0m             \u001b[0m_current_indent_level\u001b[0m \u001b[0;34m-=\u001b[0m \u001b[0;36m1\u001b[0m\u001b[0;34m\u001b[0m\u001b[0;34m\u001b[0m\u001b[0m\n",
      "\u001b[0;32m~/anaconda3/envs/nlp/lib/python3.8/json/encoder.py\u001b[0m in \u001b[0;36m_iterencode\u001b[0;34m(o, _current_indent_level)\u001b[0m\n\u001b[1;32m    436\u001b[0m                     \u001b[0;32mraise\u001b[0m \u001b[0mValueError\u001b[0m\u001b[0;34m(\u001b[0m\u001b[0;34m\"Circular reference detected\"\u001b[0m\u001b[0;34m)\u001b[0m\u001b[0;34m\u001b[0m\u001b[0;34m\u001b[0m\u001b[0m\n\u001b[1;32m    437\u001b[0m                 \u001b[0mmarkers\u001b[0m\u001b[0;34m[\u001b[0m\u001b[0mmarkerid\u001b[0m\u001b[0;34m]\u001b[0m \u001b[0;34m=\u001b[0m \u001b[0mo\u001b[0m\u001b[0;34m\u001b[0m\u001b[0;34m\u001b[0m\u001b[0m\n\u001b[0;32m--> 438\u001b[0;31m             \u001b[0mo\u001b[0m \u001b[0;34m=\u001b[0m \u001b[0m_default\u001b[0m\u001b[0;34m(\u001b[0m\u001b[0mo\u001b[0m\u001b[0;34m)\u001b[0m\u001b[0;34m\u001b[0m\u001b[0;34m\u001b[0m\u001b[0m\n\u001b[0m\u001b[1;32m    439\u001b[0m             \u001b[0;32myield\u001b[0m \u001b[0;32mfrom\u001b[0m \u001b[0m_iterencode\u001b[0m\u001b[0;34m(\u001b[0m\u001b[0mo\u001b[0m\u001b[0;34m,\u001b[0m \u001b[0m_current_indent_level\u001b[0m\u001b[0;34m)\u001b[0m\u001b[0;34m\u001b[0m\u001b[0;34m\u001b[0m\u001b[0m\n\u001b[1;32m    440\u001b[0m             \u001b[0;32mif\u001b[0m \u001b[0mmarkers\u001b[0m \u001b[0;32mis\u001b[0m \u001b[0;32mnot\u001b[0m \u001b[0;32mNone\u001b[0m\u001b[0;34m:\u001b[0m\u001b[0;34m\u001b[0m\u001b[0;34m\u001b[0m\u001b[0m\n",
      "\u001b[0;32m~/anaconda3/envs/nlp/lib/python3.8/json/encoder.py\u001b[0m in \u001b[0;36mdefault\u001b[0;34m(self, o)\u001b[0m\n\u001b[1;32m    177\u001b[0m \u001b[0;34m\u001b[0m\u001b[0m\n\u001b[1;32m    178\u001b[0m         \"\"\"\n\u001b[0;32m--> 179\u001b[0;31m         raise TypeError(f'Object of type {o.__class__.__name__} '\n\u001b[0m\u001b[1;32m    180\u001b[0m                         f'is not JSON serializable')\n\u001b[1;32m    181\u001b[0m \u001b[0;34m\u001b[0m\u001b[0m\n",
      "\u001b[0;31mTypeError\u001b[0m: Object of type ndarray is not JSON serializable"
     ]
    }
   ],
   "source": [
    "save_dir='wave_function_jsons'\n",
    "for i, wf_objc in enumerate(eigen_funct):\n",
    "    if wf_objc.E != None:\n",
    "        path=os.path.join(save_dir,f'Z_{wf_objc.Z}_E_{str(wf_objc.E)[:3]}_R_{str(wf_objc.r_N)[:3]}_l_{wf_objc.l}.json,')\n",
    " \n",
    "        wf_objc.save_as_json(path)\n",
    "        print('E',  wf_objc.E)\n",
    "        print('l',  wf_objc.l)\n",
    "        plt.plot(wf_objc.R_arra,wf_objc.U**2,'b*')\n",
    "        plt.show()\n",
    "        print('*******************************')"
   ]
  },
  {
   "cell_type": "code",
   "execution_count": null,
   "metadata": {},
   "outputs": [],
   "source": []
  },
  {
   "cell_type": "code",
   "execution_count": null,
   "metadata": {},
   "outputs": [],
   "source": []
  },
  {
   "cell_type": "code",
   "execution_count": null,
   "metadata": {},
   "outputs": [],
   "source": []
  },
  {
   "cell_type": "code",
   "execution_count": null,
   "metadata": {},
   "outputs": [],
   "source": []
  },
  {
   "cell_type": "code",
   "execution_count": null,
   "metadata": {},
   "outputs": [],
   "source": []
  }
 ],
 "metadata": {
  "kernelspec": {
   "display_name": "Python 3",
   "language": "python",
   "name": "python3"
  },
  "language_info": {
   "codemirror_mode": {
    "name": "ipython",
    "version": 3
   },
   "file_extension": ".py",
   "mimetype": "text/x-python",
   "name": "python",
   "nbconvert_exporter": "python",
   "pygments_lexer": "ipython3",
   "version": "3.8.5"
  }
 },
 "nbformat": 4,
 "nbformat_minor": 4
}
