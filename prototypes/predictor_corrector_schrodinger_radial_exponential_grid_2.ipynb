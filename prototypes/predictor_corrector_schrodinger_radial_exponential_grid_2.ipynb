{
 "cells": [
  {
   "cell_type": "code",
   "execution_count": 1,
   "metadata": {},
   "outputs": [],
   "source": [
    "import numpy as np\n",
    "import matplotlib.pyplot as plt\n",
    "import json\n",
    "import os\n",
    "plt.rcParams[\"figure.figsize\"] = (25,10)\n",
    "\n",
    "plt.rcParams.update({'font.size': 22})\n",
    "\n",
    "colors='bgrykcm'\n",
    "symbol='*-+^'"
   ]
  },
  {
   "cell_type": "code",
   "execution_count": 2,
   "metadata": {},
   "outputs": [],
   "source": [
    "import Numerov\n",
    "import utils\n",
    "import Hartree_XC\n",
    "import numpy as np\n",
    "import Atomic_Like_Potential as ALP\n",
    "from Predictor_Corrector_RK4 import predictor_corrector_radial_shcrodinger_integrator\n",
    "from Atomic_Like_Potential import V_eff_exponential_grid as V_eff\n",
    "from Radial_Eigenfunction import Radial_Eigenfunction"
   ]
  },
  {
   "cell_type": "code",
   "execution_count": null,
   "metadata": {},
   "outputs": [],
   "source": []
  },
  {
   "cell_type": "code",
   "execution_count": 3,
   "metadata": {},
   "outputs": [],
   "source": [
    "def predictor_corrector_radial_shcrodinger_integrator_exponential_grid(grid, w10,w20, kwargs):\n",
    "    E= kwargs['E']\n",
    "    #h= kwargs['delta_x']\n",
    "    h_arra= np.array(grid[1:]) - np.array(grid[:-1])\n",
    "    Z= kwargs['Z']\n",
    "    l= kwargs['l']\n",
    "\n",
    "    w1=[w10]\n",
    "    w2=[w20]\n",
    "\n",
    "    for i,ri in enumerate(grid[:3]):\n",
    "        h= h_arra[i]\n",
    "        k1=4*[0.0]\n",
    "        k2=4*[0.0]\n",
    "        vj0= V_eff(ri,Z,l,E)#ALP.V_coulomb(ri, Z) + ALP.V_angular(ri, l)\n",
    "        vj12= V_eff(ri + 0.5*h,Z,l,E)#ALP.V_coulomb(ri + 0.5*h, Z) + ALP.V_angular(ri + 0.5*h, l)\n",
    "        vj3= V_eff(ri + h,Z,l,E)#ALP.V_coulomb(ri + h, Z) + ALP.V_angular(ri + h, l)\n",
    "        for j in range(4):\n",
    "            #k1[j]=h*(w2[i] + 0.5*k2[j-1])\n",
    "            if j == 0:\n",
    "                k1[j]=h*(w2[i])\n",
    "                k2[j]= h*vj0*w1[i]\n",
    "            elif j == 1 or j == 2:\n",
    "                k1[j]=h*(w2[i] + 0.5*k2[j-1])\n",
    "                k2[j]= h*2.0*vj12*(w1[i] + 0.5*k1[j-1])\n",
    "            elif j == 3:\n",
    "                k1[j]=h*(w2[i] + k2[j-1])\n",
    "                k2[j]= h*2.0*vj3*(w1[i] + k1[j-1])\n",
    "        w1.append( w1[i] + (1.0/6.0)*(k1[0] + 2.0*k1[1] + 2.0*k1[2] + k1[3]))\n",
    "        w2.append( w2[i] + (1.0/6.0)*(k2[0] + 2.0*k2[1] + 2.0*k2[2] + k2[3]))\n",
    "\n",
    "    for i in range(4,len(grid)):\n",
    "        h= h_arra[i]\n",
    "        ri= grid[i]\n",
    "        r1= grid[i-1]\n",
    "        r2= grid[i-2]\n",
    "        r3= grid[i-3]\n",
    "        r4= grid[i-4]\n",
    "        wp1= w1[i-1] + h*(55.0*w2[i-1] - 59.0*w2[i-2]\n",
    "                       +37.0*w2[i-3] - 9.0*w2[i-4])/24.0\n",
    "\n",
    "        wp2= w2[i-1] + h*(55.0*V_eff(r1,Z,l,E)*w1[i-1] - 59.0*V_eff(r2,Z,l,E)*w1[i-2]\n",
    "                       +37.0*V_eff(r3,Z,l,E)*w1[i-3] - 9.0*V_eff(r4,Z,l,E)*w1[i-4])/24.0\n",
    "\n",
    "        wc1= w1[i-1] + h*(9.0*wp2 + 19.0*w2[i-1]\n",
    "                       -5.0*w2[i-2] + w2[i-3])/24.0\n",
    "\n",
    "        wc2= w2[i-1] + h*(9.0*V_eff(ri,Z,l,E)*wc1 + 19.0*V_eff(r1,Z,l,E)*w1[i-1]\n",
    "                       -5.0*V_eff(r2,Z,l,E)*w1[i-2] + V_eff(r3,Z,l,E)*w1[i-3])/24.0\n",
    "\n",
    "        w1.append(wc1)\n",
    "        w2.append(wc2)\n",
    "    return w1"
   ]
  },
  {
   "cell_type": "code",
   "execution_count": null,
   "metadata": {},
   "outputs": [],
   "source": []
  },
  {
   "cell_type": "code",
   "execution_count": 4,
   "metadata": {},
   "outputs": [],
   "source": [
    "def predictor_corrector_radial_shcrodinger_integrator_exponential_grid_2(grid, j_arra, w10,w20, kwargs):\n",
    "    E= kwargs['E']\n",
    "    delta= kwargs['delta']\n",
    "    rp= kwargs['rp']\n",
    "    h_arra= np.array(grid[1:]) - np.array(grid[:-1])\n",
    "    Z= kwargs['Z']\n",
    "    l= kwargs['l']\n",
    "    j=j_arra[-1]\n",
    "    w1=[np.exp(-0.5*delta*j)*w10]\n",
    "    w2=[np.exp(-0.5*delta*j)*w20]\n",
    "\n",
    "    for i,ri in enumerate(grid[:3]):\n",
    "        h= h_arra[i]\n",
    "        j= j_arra[-1*(1+1)]\n",
    "        k1=4*[0.0]\n",
    "        k2=4*[0.0]\n",
    "        vj0= V_eff(delta, rp, j,ri,Z,l,E)#ALP.V_coulomb(ri, Z) + ALP.V_angular(ri, l)\n",
    "        vj12= V_eff(delta, rp, j,ri + 0.5*h,Z,l,E)#ALP.V_coulomb(ri + 0.5*h, Z) + ALP.V_angular(ri + 0.5*h, l)\n",
    "        vj3= V_eff(delta, rp, j,ri + h,Z,l,E)#ALP.V_coulomb(ri + h, Z) + ALP.V_angular(ri + h, l)\n",
    "        for j in range(4):\n",
    "            #k1[j]=h*(w2[i] + 0.5*k2[j-1])\n",
    "            if j == 0:\n",
    "                k1[j]=h*(w2[i])\n",
    "                k2[j]= h*vj0*w1[i]\n",
    "            elif j == 1 or j == 2:\n",
    "                k1[j]=h*(w2[i] + 0.5*k2[j-1])\n",
    "                k2[j]= h*2.0*vj12*(w1[i] + 0.5*k1[j-1])\n",
    "            elif j == 3:\n",
    "                k1[j]=h*(w2[i] + k2[j-1])\n",
    "                k2[j]= h*2.0*vj3*(w1[i] + k1[j-1])\n",
    "        w1.append( w1[i] + (1.0/6.0)*(k1[0] + 2.0*k1[1] + 2.0*k1[2] + k1[3]))\n",
    "        w2.append( w2[i] + (1.0/6.0)*(k2[0] + 2.0*k2[1] + 2.0*k2[2] + k2[3]))\n",
    "\n",
    "    for i in range(4,len(grid)-1):\n",
    "        h= h_arra[i]\n",
    "        ri= grid[i]\n",
    "        ji= j_arra[-1*(i+1)]\n",
    "        r1= grid[i-1]\n",
    "        j1= j_arra[-1*(i+1-1)]\n",
    "        r2= grid[i-2]\n",
    "        j2= j_arra[-1*(i+1-2)]\n",
    "        r3= grid[i-3]\n",
    "        j3= j_arra[-1*(i+1-3)]\n",
    "        r4= grid[i-4]\n",
    "        j4= j_arra[-1*(i+1-4)]\n",
    "        wp1= w1[i-1] + h*(55.0*w2[i-1] - 59.0*w2[i-2]\n",
    "                       +37.0*w2[i-3] - 9.0*w2[i-4])/24.0\n",
    "\n",
    "        wp2= w2[i-1] + h*(55.0*V_eff(delta, rp, j1,r1,Z,l,E)*w1[i-1] - 59.0*V_eff(delta, rp, j2,r2,Z,l,E)*w1[i-2]\n",
    "                       +37.0*V_eff(delta, rp, j3,r3,Z,l,E)*w1[i-3] - 9.0*V_eff(delta, rp, j4,r4,Z,l,E)*w1[i-4])/24.0\n",
    "\n",
    "        wc1= w1[i-1] + h*(9.0*wp2 + 19.0*w2[i-1]\n",
    "                       -5.0*w2[i-2] + w2[i-3])/24.0\n",
    "\n",
    "        wc2= w2[i-1] + h*(9.0*V_eff(delta, rp, ji,ri,Z,l,E)*wc1 + 19.0*V_eff(delta, rp, j1,r1,Z,l,E)*w1[i-1]\n",
    "                       -5.0*V_eff(delta, rp, j4,r2,Z,l,E)*w1[i-2] + V_eff(delta, rp, j3,r3,Z,l,E)*w1[i-3])/24.0\n",
    "\n",
    "        w1.append(wc1)\n",
    "        w2.append(wc2)\n",
    "    return w1"
   ]
  },
  {
   "cell_type": "code",
   "execution_count": null,
   "metadata": {},
   "outputs": [],
   "source": []
  },
  {
   "cell_type": "code",
   "execution_count": 5,
   "metadata": {},
   "outputs": [],
   "source": [
    "r_max=10.0\n",
    "grid_points=2000\n",
    "delta=0.0025\n",
    "rp= utils.get_rp(r_max, grid_points, delta)\n",
    "\n",
    "exp_grid= utils.get_exponential_grid(delta=delta, rp=rp, grid_points=grid_points)\n",
    "h_temp= exp_grid[-1] - exp_grid[-2]\n",
    "for i in range(0, 4):\n",
    "    exp_grid.append(exp_grid[-1] + h_temp)\n",
    "j_arra= [*range(len(exp_grid))]\n",
    "exp_grid.reverse()\n",
    "j_arra.reverse()"
   ]
  },
  {
   "cell_type": "code",
   "execution_count": 6,
   "metadata": {},
   "outputs": [],
   "source": [
    "kwargs={'l':0, 'Z':1.0, 'E':-0.5, 'delta':delta, 'rp':rp}\n",
    "u_hydr= utils.U_Hydrogen(exp_grid)\n",
    "\n",
    "w10= u_hydr[0]\n",
    "w20= (u_hydr[1] - u_hydr[0])/(u_hydr[1] - u_hydr[0])\n",
    "#w10= 1.0e-7#u_hydr[0]\n",
    "#w20= (1.2e-8 - w10)//kwargs['delta_x']#(u_hydr[1] - u_hydr[0])/kwargs['delta_x']"
   ]
  },
  {
   "cell_type": "code",
   "execution_count": 7,
   "metadata": {},
   "outputs": [
    {
     "data": {
      "text/plain": [
       "0.00042429140061706457"
      ]
     },
     "execution_count": 7,
     "metadata": {},
     "output_type": "execute_result"
    }
   ],
   "source": [
    "w10"
   ]
  },
  {
   "cell_type": "code",
   "execution_count": 8,
   "metadata": {},
   "outputs": [],
   "source": [
    "u_func= predictor_corrector_radial_shcrodinger_integrator_exponential_grid_2(exp_grid,j_arra, w10,w20, kwargs)"
   ]
  },
  {
   "cell_type": "code",
   "execution_count": 9,
   "metadata": {},
   "outputs": [
    {
     "data": {
      "image/png": "[encoded data removed]",
      "text/plain": [
       "<Figure size 1800x720 with 1 Axes>"
      ]
     },
     "metadata": {
      "needs_background": "light"
     },
     "output_type": "display_data"
    }
   ],
   "source": [
    "plt.plot(exp_grid[:-1],np.array(u_func)**2,'r+')\n",
    "plt.show()"
   ]
  },
  {
   "cell_type": "code",
   "execution_count": null,
   "metadata": {},
   "outputs": [],
   "source": []
  },
  {
   "cell_type": "code",
   "execution_count": 12,
   "metadata": {},
   "outputs": [
    {
     "data": {
      "text/plain": [
       "0.0"
      ]
     },
     "execution_count": 12,
     "metadata": {},
     "output_type": "execute_result"
    }
   ],
   "source": [
    "max(u_func)"
   ]
  },
  {
   "cell_type": "code",
   "execution_count": null,
   "metadata": {},
   "outputs": [],
   "source": []
  },
  {
   "cell_type": "code",
   "execution_count": null,
   "metadata": {},
   "outputs": [],
   "source": []
  },
  {
   "cell_type": "code",
   "execution_count": null,
   "metadata": {},
   "outputs": [],
   "source": []
  },
  {
   "cell_type": "code",
   "execution_count": null,
   "metadata": {},
   "outputs": [],
   "source": []
  },
  {
   "cell_type": "code",
   "execution_count": 4,
   "metadata": {},
   "outputs": [],
   "source": [
    "r_max=0.6\n",
    "grid_points=10\n",
    "delta=0.001\n",
    "rp= utils.get_rp(r_max, grid_points, delta)\n",
    "\n",
    "ener_grid= -1.0*np.array(utils.get_exponential_grid(delta=delta, rp=rp, grid_points=grid_points))"
   ]
  },
  {
   "cell_type": "code",
   "execution_count": null,
   "metadata": {},
   "outputs": [],
   "source": []
  },
  {
   "cell_type": "code",
   "execution_count": null,
   "metadata": {},
   "outputs": [],
   "source": []
  },
  {
   "cell_type": "code",
   "execution_count": null,
   "metadata": {},
   "outputs": [],
   "source": []
  },
  {
   "cell_type": "code",
   "execution_count": null,
   "metadata": {},
   "outputs": [],
   "source": []
  },
  {
   "cell_type": "code",
   "execution_count": 5,
   "metadata": {},
   "outputs": [],
   "source": [
    "\n",
    "u0_E=[]# u_func(r=0) as function of energy\n",
    "for E in ener_grid:\n",
    "    kwargs={'delta_x': 0.001, 'r_N':10.0, 'l':0, 'Z':1.0, 'E':E}\n",
    "    u_func= predictor_corrector_radial_shcrodinger_integrator(r_grid_reversed, w10,w20, kwargs)\n",
    "    u_func= utils.normalize_u_function(u_func, kwargs['delta_x'])\n",
    "    u0_E.append(u_func[-1])\n",
    "number_of_nodes, nodes_positions= utils.get_nodes_information(u0_E, ener_grid)"
   ]
  },
  {
   "cell_type": "code",
   "execution_count": 6,
   "metadata": {},
   "outputs": [
    {
     "data": {
      "text/plain": [
       "2"
      ]
     },
     "execution_count": 6,
     "metadata": {},
     "output_type": "execute_result"
    }
   ],
   "source": [
    "number_of_nodes"
   ]
  },
  {
   "cell_type": "code",
   "execution_count": 7,
   "metadata": {},
   "outputs": [
    {
     "data": {
      "text/plain": [
       "[(-0.11952048063881804, -0.059730360201740815),\n",
       " (-0.5397296402032716, -0.4795195206411906)]"
      ]
     },
     "execution_count": 7,
     "metadata": {},
     "output_type": "execute_result"
    }
   ],
   "source": [
    "nodes_positions"
   ]
  },
  {
   "cell_type": "code",
   "execution_count": 13,
   "metadata": {},
   "outputs": [
    {
     "name": "stdout",
     "output_type": "stream",
     "text": [
      "3\n"
     ]
    }
   ],
   "source": [
    "#secant method\n",
    "temp_nodes_posi= nodes_positions[0]\n",
    "N_max=100\n",
    "tolerance=1.0e-6\n",
    "i=0\n",
    "\n",
    "\n",
    "p0= temp_nodes_posi[0]\n",
    "kwargs={'delta_x': 0.001, 'r_N':10.0, 'l':0, 'Z':1.0, 'E':p0}\n",
    "u_func= predictor_corrector_radial_shcrodinger_integrator(r_grid_reversed, w10,w20, kwargs)\n",
    "u_func= utils.normalize_u_function(u_func, kwargs['delta_x'])\n",
    "q0= u_func[-1]\n",
    "\n",
    "p1= temp_nodes_posi[1]\n",
    "kwargs={'delta_x': 0.001, 'r_N':10.0, 'l':0, 'Z':1.0, 'E':p1}\n",
    "u_func= predictor_corrector_radial_shcrodinger_integrator(r_grid_reversed, w10,w20, kwargs)\n",
    "u_func= utils.normalize_u_function(u_func, kwargs['delta_x'])\n",
    "q1= u_func[-1]\n",
    "\n",
    "while i < N_max:\n",
    "    p= p1 - q1*(p1-p0)/(q1-q0)\n",
    "    if abs(p-p1) < tolerance:\n",
    "        break\n",
    "    p0=p1\n",
    "    q0=q1\n",
    "    p1=p\n",
    "    kwargs={'delta_x': 0.001, 'r_N':10.0, 'l':0, 'Z':1.0, 'E':p1}\n",
    "    u_func= predictor_corrector_radial_shcrodinger_integrator(r_grid_reversed, w10,w20, kwargs)\n",
    "    u_func= utils.normalize_u_function(u_func, kwargs['delta_x'])\n",
    "    q1= u_func[-1]\n",
    "    i+=1\n",
    "print(i)\n",
    "kwargs={'delta_x': 0.001, 'r_N':10.0, 'l':0, 'Z':1.0, 'E':p}\n",
    "u_func= predictor_corrector_radial_shcrodinger_integrator(r_grid_reversed, w10,w20, kwargs)\n",
    "u_func= utils.normalize_u_function(u_func, kwargs['delta_x'])"
   ]
  },
  {
   "cell_type": "code",
   "execution_count": 14,
   "metadata": {},
   "outputs": [
    {
     "data": {
      "image/png": "[encoded data removed]",
      "text/plain": [
       "<Figure size 1800x720 with 1 Axes>"
      ]
     },
     "metadata": {
      "needs_background": "light"
     },
     "output_type": "display_data"
    }
   ],
   "source": [
    "plt.plot(r_grid_reversed,np.array(u_func)**2,'r+')\n",
    "plt.show()"
   ]
  },
  {
   "cell_type": "code",
   "execution_count": 17,
   "metadata": {},
   "outputs": [
    {
     "data": {
      "text/plain": [
       "7.056174246030256e-15"
      ]
     },
     "execution_count": 17,
     "metadata": {},
     "output_type": "execute_result"
    }
   ],
   "source": [
    "u_func[-1]"
   ]
  },
  {
   "cell_type": "code",
   "execution_count": 19,
   "metadata": {},
   "outputs": [
    {
     "data": {
      "text/plain": [
       "1.0259154636926837e-13"
      ]
     },
     "execution_count": 19,
     "metadata": {},
     "output_type": "execute_result"
    }
   ],
   "source": [
    "r_grid_reversed[-1]"
   ]
  },
  {
   "cell_type": "code",
   "execution_count": null,
   "metadata": {},
   "outputs": [],
   "source": []
  },
  {
   "cell_type": "code",
   "execution_count": null,
   "metadata": {},
   "outputs": [],
   "source": []
  },
  {
   "cell_type": "code",
   "execution_count": null,
   "metadata": {},
   "outputs": [],
   "source": []
  },
  {
   "cell_type": "code",
   "execution_count": 16,
   "metadata": {},
   "outputs": [
    {
     "data": {
      "text/plain": [
       "9.966808872359859e-12"
      ]
     },
     "execution_count": 16,
     "metadata": {},
     "output_type": "execute_result"
    }
   ],
   "source": [
    "r_grid_reversed[-1]"
   ]
  },
  {
   "cell_type": "code",
   "execution_count": 19,
   "metadata": {},
   "outputs": [
    {
     "data": {
      "text/plain": [
       "1.9913800516305441e-10"
      ]
     },
     "execution_count": 19,
     "metadata": {},
     "output_type": "execute_result"
    }
   ],
   "source": [
    "u_func[-1]"
   ]
  },
  {
   "cell_type": "code",
   "execution_count": 20,
   "metadata": {},
   "outputs": [
    {
     "data": {
      "text/plain": [
       "1.1714435248363741e-34"
      ]
     },
     "execution_count": 20,
     "metadata": {},
     "output_type": "execute_result"
    }
   ],
   "source": [
    "u_func[0]"
   ]
  },
  {
   "cell_type": "code",
   "execution_count": 21,
   "metadata": {},
   "outputs": [
    {
     "data": {
      "text/plain": [
       "10.0"
      ]
     },
     "execution_count": 21,
     "metadata": {},
     "output_type": "execute_result"
    }
   ],
   "source": [
    "r_grid_reversed[0]"
   ]
  },
  {
   "cell_type": "code",
   "execution_count": 18,
   "metadata": {},
   "outputs": [],
   "source": [
    "kwargs={'delta_x': 0.001, 'r_N':10.0, 'l':0, 'Z':1.0, 'E':-0.5}\n",
    "u_func= predictor_corrector_radial_shcrodinger_integrator(r_grid_reversed, w10,w20, kwargs)\n",
    "u_func= utils.normalize_u_function(u_func, kwargs['delta_x'])"
   ]
  },
  {
   "cell_type": "code",
   "execution_count": 9,
   "metadata": {},
   "outputs": [],
   "source": [
    "\n",
    "u_hydr_normalized= utils.normalize_u_function(u_hydr, kwargs['delta_x'])"
   ]
  },
  {
   "cell_type": "code",
   "execution_count": 11,
   "metadata": {},
   "outputs": [
    {
     "data": {
      "image/png": "[encoded data removed]",
      "text/plain": [
       "<Figure size 1800x720 with 1 Axes>"
      ]
     },
     "metadata": {
      "needs_background": "light"
     },
     "output_type": "display_data"
    }
   ],
   "source": [
    "plt.plot(r_grid_reversed,np.array(u_func)**2,'r+', r_grid_reversed,u_hydr_normalized**2,'b-')\n",
    "plt.show()"
   ]
  },
  {
   "cell_type": "code",
   "execution_count": null,
   "metadata": {},
   "outputs": [],
   "source": []
  },
  {
   "cell_type": "code",
   "execution_count": 12,
   "metadata": {},
   "outputs": [],
   "source": [
    "temp= np.abs(np.array(u_func)- u_hydr_normalized)"
   ]
  },
  {
   "cell_type": "code",
   "execution_count": 13,
   "metadata": {},
   "outputs": [
    {
     "data": {
      "text/plain": [
       "array([9.07998640e-04, 9.08242635e-04, 9.08486638e-04, ...,\n",
       "       8.00582647e-04, 4.00699798e-04, 7.36801628e-07])"
      ]
     },
     "execution_count": 13,
     "metadata": {},
     "output_type": "execute_result"
    }
   ],
   "source": [
    "temp"
   ]
  },
  {
   "cell_type": "code",
   "execution_count": null,
   "metadata": {},
   "outputs": [],
   "source": []
  }
 ],
 "metadata": {
  "kernelspec": {
   "display_name": "Python 3",
   "language": "python",
   "name": "python3"
  },
  "language_info": {
   "codemirror_mode": {
    "name": "ipython",
    "version": 3
   },
   "file_extension": ".py",
   "mimetype": "text/x-python",
   "name": "python",
   "nbconvert_exporter": "python",
   "pygments_lexer": "ipython3",
   "version": "3.8.5"
  }
 },
 "nbformat": 4,
 "nbformat_minor": 4
}
