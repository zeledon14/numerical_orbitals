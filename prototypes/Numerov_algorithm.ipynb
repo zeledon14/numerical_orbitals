{
 "cells": [
  {
   "cell_type": "code",
   "execution_count": 1,
   "metadata": {},
   "outputs": [],
   "source": [
    "import numpy as np\n",
    "import matplotlib.pyplot as plt"
   ]
  },
  {
   "cell_type": "markdown",
   "metadata": {},
   "source": [
    "The Numerov algorithm can solve linear second differential equations (like hydrogen Schrodinger eqution's)\n",
    "\n",
    "$\\frac{d^2 y}{dx^2} + k^2(x) y = s(x)$\n",
    "\n",
    "For wave functions of the form $\\phi(\\vec(r)) = \\frac{R(r)}{r} Y_{lm}(\\Omega) $\n",
    "\n",
    "$k^2(r) = \\frac{2m}{\\hbar^2} \\Big( E - \\frac{l(l+1) \\hbar^2}{2mr^2} - V(r) \\Big)$\n",
    "\n",
    "The Numerov algorithm:\n",
    "\n",
    "$ \\frac{\\Delta x^2}{12} \\Big[ s_{n+1} + 10s_{n} + s_{n-1} \\Big] = \\Big(1 + \\frac{\\Delta x^2 k^2_{n+1}}{12} \\Big)y_{n+1} -2 \\Big(1 - \\frac{5 \\Delta x^2 k^2_{n}}{12} \\Big)y_{n} + \\Big(1 + \\frac{\\Delta x^2 k^2_{n-1}}{12} \\Big)y_{n-1} + O(\\Delta x^6)$\n",
    "\n",
    "To start the algorithm 2 conditions are needed $y_0$ and $y_1$"
   ]
  },
  {
   "cell_type": "code",
   "execution_count": null,
   "metadata": {},
   "outputs": [],
   "source": []
  },
  {
   "cell_type": "markdown",
   "metadata": {},
   "source": [
    "### Exercise 3.1 Computational physics Koonin\n",
    "\n",
    "Using Numerov algorithm to solve $\\frac{d^2 y}{dx^2} = -4 \\pi^2 y$ with the conditions $y(0) = 1$ and $y'(0) = 0$ from $x=0$ to $x=1$\n",
    "\n",
    "##### Solution\n",
    "\n",
    "First we need to find $y( \\Delta x)$ for that we use the Taylor expantion around $x=0$ up to $\\Delta x^2$\n",
    "\n",
    "$y( \\Delta x) = y(0) + y'(0) \\Delta x + O(\\Delta x^2)$ "
   ]
  },
  {
   "cell_type": "markdown",
   "metadata": {},
   "source": [
    "$C(\\Delta x, q) = \\Big(1 +  \\frac{q  \\Delta x^2  4 \\pi^2}{12} \\Big)$\n",
    "\n",
    "$y_{n+1}= \\frac{2C(\\Delta x, 5)y_n - C(\\Delta x, 1)y_{n-1}}{C(\\Delta x, 1)}$"
   ]
  },
  {
   "cell_type": "code",
   "execution_count": 24,
   "metadata": {},
   "outputs": [
    {
     "name": "stdout",
     "output_type": "stream",
     "text": [
      "66\n"
     ]
    }
   ],
   "source": [
    "def C(Delta_x, q=1.0):\n",
    "    return (1.0 + (q*4.0*(np.pi**2.0)*(Delta_x)**2.0)/12.0)\n",
    "\n",
    "x_min=0.0\n",
    "x_max=1.0\n",
    "Delta_x=0.015\n",
    "y=[]\n",
    "\n",
    "y.append(1.0)\n",
    "\n",
    "y.append(1.0 + 0.0*Delta_x)\n",
    "\n",
    "N= int((x_max - x_min)/Delta_x)\n",
    "print(N)\n",
    "for n in range(2, N):\n",
    "    y.append(((2.0*C(Delta_x,-5.0)*y[n-1] - C(Delta_x,1)*y[n-2])/(C(Delta_x))))"
   ]
  },
  {
   "cell_type": "code",
   "execution_count": 25,
   "metadata": {},
   "outputs": [
    {
     "data": {
      "text/plain": [
       "[<matplotlib.lines.Line2D at 0x7f2aafbb63a0>,\n",
       " <matplotlib.lines.Line2D at 0x7f2aafbb6100>]"
      ]
     },
     "execution_count": 25,
     "metadata": {},
     "output_type": "execute_result"
    },
    {
     "data": {
      "image/png": "[encoded data removed]",
      "text/plain": [
       "<Figure size 432x288 with 1 Axes>"
      ]
     },
     "metadata": {
      "needs_background": "light"
     },
     "output_type": "display_data"
    }
   ],
   "source": [
    "x_arra= np.array([n*Delta_x for n in range(N)])\n",
    "y_true= np.cos(2.0*np.pi*x_arra)\n",
    "plt.plot(x_arra, y, 'r*', x_arra, y_true)"
   ]
  },
  {
   "cell_type": "code",
   "execution_count": null,
   "metadata": {},
   "outputs": [],
   "source": []
  },
  {
   "cell_type": "code",
   "execution_count": null,
   "metadata": {},
   "outputs": [],
   "source": []
  },
  {
   "cell_type": "code",
   "execution_count": null,
   "metadata": {},
   "outputs": [],
   "source": []
  },
  {
   "cell_type": "code",
   "execution_count": null,
   "metadata": {},
   "outputs": [],
   "source": []
  },
  {
   "cell_type": "code",
   "execution_count": null,
   "metadata": {},
   "outputs": [],
   "source": []
  },
  {
   "cell_type": "code",
   "execution_count": null,
   "metadata": {},
   "outputs": [],
   "source": []
  },
  {
   "cell_type": "code",
   "execution_count": null,
   "metadata": {},
   "outputs": [],
   "source": []
  },
  {
   "cell_type": "code",
   "execution_count": null,
   "metadata": {},
   "outputs": [],
   "source": []
  },
  {
   "cell_type": "code",
   "execution_count": null,
   "metadata": {},
   "outputs": [],
   "source": []
  },
  {
   "cell_type": "code",
   "execution_count": null,
   "metadata": {},
   "outputs": [],
   "source": []
  }
 ],
 "metadata": {
  "kernelspec": {
   "display_name": "Python 3",
   "language": "python",
   "name": "python3"
  },
  "language_info": {
   "codemirror_mode": {
    "name": "ipython",
    "version": 3
   },
   "file_extension": ".py",
   "mimetype": "text/x-python",
   "name": "python",
   "nbconvert_exporter": "python",
   "pygments_lexer": "ipython3",
   "version": "3.8.5"
  }
 },
 "nbformat": 4,
 "nbformat_minor": 4
}
