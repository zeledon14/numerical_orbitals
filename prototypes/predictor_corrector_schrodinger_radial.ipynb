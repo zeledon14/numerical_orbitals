{
 "cells": [
  {
   "cell_type": "code",
   "execution_count": 1,
   "metadata": {},
   "outputs": [],
   "source": [
    "import numpy as np\n",
    "import matplotlib.pyplot as plt\n",
    "import json\n",
    "import os\n",
    "plt.rcParams[\"figure.figsize\"] = (25,10)\n",
    "\n",
    "plt.rcParams.update({'font.size': 22})\n",
    "\n",
    "colors='bgrykcm'\n",
    "symbol='*-+^'"
   ]
  },
  {
   "cell_type": "code",
   "execution_count": 2,
   "metadata": {},
   "outputs": [],
   "source": [
    "import Numerov\n",
    "import utils\n",
    "import Hartree_XC\n",
    "import numpy as np\n",
    "import Atomic_Like_Potential as ALP\n",
    "from Predictor_Corrector_RK4 import predictor_corrector_radial_shcrodinger_integrator\n",
    "from Atomic_Like_Potential import V_eff\n",
    "from Radial_Eigenfunction import Radial_Eigenfunction"
   ]
  },
  {
   "cell_type": "code",
   "execution_count": null,
   "metadata": {},
   "outputs": [],
   "source": []
  },
  {
   "cell_type": "code",
   "execution_count": 3,
   "metadata": {},
   "outputs": [],
   "source": [
    "kwargs={'delta_x': 0.001, 'r_N':10.0, 'l':0, 'Z':1.0, 'E':-0.5}\n",
    "r_grid_reversed= utils.get_uniform_r_grid(**kwargs)\n",
    "w10= 1.0e-7#u_hydr[0]\n",
    "w20= (1.2e-8 - w10)//kwargs['delta_x']#(u_hydr[1] - u_hydr[0])/kwargs['delta_x']"
   ]
  },
  {
   "cell_type": "code",
   "execution_count": 4,
   "metadata": {},
   "outputs": [],
   "source": [
    "r_max=0.6\n",
    "grid_points=10\n",
    "delta=0.001\n",
    "rp= utils.get_rp(r_max, grid_points, delta)\n",
    "\n",
    "ener_grid= -1.0*np.array(utils.get_exponential_grid(delta=delta, rp=rp, grid_points=grid_points))"
   ]
  },
  {
   "cell_type": "code",
   "execution_count": null,
   "metadata": {},
   "outputs": [],
   "source": []
  },
  {
   "cell_type": "code",
   "execution_count": 5,
   "metadata": {},
   "outputs": [],
   "source": [
    "\n",
    "u0_E=[]# u_func(r=0) as function of energy\n",
    "for E in ener_grid:\n",
    "    kwargs={'delta_x': 0.001, 'r_N':10.0, 'l':0, 'Z':1.0, 'E':E}\n",
    "    u_func= predictor_corrector_radial_shcrodinger_integrator(r_grid_reversed, w10,w20, kwargs)\n",
    "    u_func= utils.normalize_u_function(u_func, kwargs['delta_x'])\n",
    "    u0_E.append(u_func[-1])\n",
    "number_of_nodes, nodes_positions= utils.get_nodes_information(u0_E, ener_grid)"
   ]
  },
  {
   "cell_type": "code",
   "execution_count": 6,
   "metadata": {},
   "outputs": [
    {
     "data": {
      "text/plain": [
       "2"
      ]
     },
     "execution_count": 6,
     "metadata": {},
     "output_type": "execute_result"
    }
   ],
   "source": [
    "number_of_nodes"
   ]
  },
  {
   "cell_type": "code",
   "execution_count": 7,
   "metadata": {},
   "outputs": [
    {
     "data": {
      "text/plain": [
       "[(-0.11952048063881804, -0.059730360201740815),\n",
       " (-0.5397296402032716, -0.4795195206411906)]"
      ]
     },
     "execution_count": 7,
     "metadata": {},
     "output_type": "execute_result"
    }
   ],
   "source": [
    "nodes_positions"
   ]
  },
  {
   "cell_type": "code",
   "execution_count": 13,
   "metadata": {},
   "outputs": [
    {
     "name": "stdout",
     "output_type": "stream",
     "text": [
      "3\n"
     ]
    }
   ],
   "source": [
    "#secant method\n",
    "temp_nodes_posi= nodes_positions[0]\n",
    "N_max=100\n",
    "tolerance=1.0e-6\n",
    "i=0\n",
    "\n",
    "\n",
    "p0= temp_nodes_posi[0]\n",
    "kwargs={'delta_x': 0.001, 'r_N':10.0, 'l':0, 'Z':1.0, 'E':p0}\n",
    "u_func= predictor_corrector_radial_shcrodinger_integrator(r_grid_reversed, w10,w20, kwargs)\n",
    "u_func= utils.normalize_u_function(u_func, kwargs['delta_x'])\n",
    "q0= u_func[-1]\n",
    "\n",
    "p1= temp_nodes_posi[1]\n",
    "kwargs={'delta_x': 0.001, 'r_N':10.0, 'l':0, 'Z':1.0, 'E':p1}\n",
    "u_func= predictor_corrector_radial_shcrodinger_integrator(r_grid_reversed, w10,w20, kwargs)\n",
    "u_func= utils.normalize_u_function(u_func, kwargs['delta_x'])\n",
    "q1= u_func[-1]\n",
    "\n",
    "while i < N_max:\n",
    "    p= p1 - q1*(p1-p0)/(q1-q0)\n",
    "    if abs(p-p1) < tolerance:\n",
    "        break\n",
    "    p0=p1\n",
    "    q0=q1\n",
    "    p1=p\n",
    "    kwargs={'delta_x': 0.001, 'r_N':10.0, 'l':0, 'Z':1.0, 'E':p1}\n",
    "    u_func= predictor_corrector_radial_shcrodinger_integrator(r_grid_reversed, w10,w20, kwargs)\n",
    "    u_func= utils.normalize_u_function(u_func, kwargs['delta_x'])\n",
    "    q1= u_func[-1]\n",
    "    i+=1\n",
    "print(i)\n",
    "kwargs={'delta_x': 0.001, 'r_N':10.0, 'l':0, 'Z':1.0, 'E':p}\n",
    "u_func= predictor_corrector_radial_shcrodinger_integrator(r_grid_reversed, w10,w20, kwargs)\n",
    "u_func= utils.normalize_u_function(u_func, kwargs['delta_x'])"
   ]
  },
  {
   "cell_type": "code",
   "execution_count": 14,
   "metadata": {},
   "outputs": [
    {
     "data": {
      "image/png": "[encoded data removed]",
      "text/plain": [
       "<Figure size 1800x720 with 1 Axes>"
      ]
     },
     "metadata": {
      "needs_background": "light"
     },
     "output_type": "display_data"
    }
   ],
   "source": [
    "plt.plot(r_grid_reversed,np.array(u_func)**2,'r+')\n",
    "plt.show()"
   ]
  },
  {
   "cell_type": "code",
   "execution_count": 17,
   "metadata": {},
   "outputs": [
    {
     "data": {
      "text/plain": [
       "7.056174246030256e-15"
      ]
     },
     "execution_count": 17,
     "metadata": {},
     "output_type": "execute_result"
    }
   ],
   "source": [
    "u_func[-1]"
   ]
  },
  {
   "cell_type": "code",
   "execution_count": 19,
   "metadata": {},
   "outputs": [
    {
     "data": {
      "text/plain": [
       "1.0259154636926837e-13"
      ]
     },
     "execution_count": 19,
     "metadata": {},
     "output_type": "execute_result"
    }
   ],
   "source": [
    "r_grid_reversed[-1]"
   ]
  },
  {
   "cell_type": "code",
   "execution_count": null,
   "metadata": {},
   "outputs": [],
   "source": []
  },
  {
   "cell_type": "code",
   "execution_count": null,
   "metadata": {},
   "outputs": [],
   "source": []
  },
  {
   "cell_type": "code",
   "execution_count": null,
   "metadata": {},
   "outputs": [],
   "source": []
  },
  {
   "cell_type": "code",
   "execution_count": 16,
   "metadata": {},
   "outputs": [
    {
     "data": {
      "text/plain": [
       "9.966808872359859e-12"
      ]
     },
     "execution_count": 16,
     "metadata": {},
     "output_type": "execute_result"
    }
   ],
   "source": [
    "r_grid_reversed[-1]"
   ]
  },
  {
   "cell_type": "code",
   "execution_count": 19,
   "metadata": {},
   "outputs": [
    {
     "data": {
      "text/plain": [
       "1.9913800516305441e-10"
      ]
     },
     "execution_count": 19,
     "metadata": {},
     "output_type": "execute_result"
    }
   ],
   "source": [
    "u_func[-1]"
   ]
  },
  {
   "cell_type": "code",
   "execution_count": 20,
   "metadata": {},
   "outputs": [
    {
     "data": {
      "text/plain": [
       "1.1714435248363741e-34"
      ]
     },
     "execution_count": 20,
     "metadata": {},
     "output_type": "execute_result"
    }
   ],
   "source": [
    "u_func[0]"
   ]
  },
  {
   "cell_type": "code",
   "execution_count": 21,
   "metadata": {},
   "outputs": [
    {
     "data": {
      "text/plain": [
       "10.0"
      ]
     },
     "execution_count": 21,
     "metadata": {},
     "output_type": "execute_result"
    }
   ],
   "source": [
    "r_grid_reversed[0]"
   ]
  },
  {
   "cell_type": "code",
   "execution_count": 18,
   "metadata": {},
   "outputs": [],
   "source": [
    "kwargs={'delta_x': 0.001, 'r_N':10.0, 'l':0, 'Z':1.0, 'E':-0.5}\n",
    "u_func= predictor_corrector_radial_shcrodinger_integrator(r_grid_reversed, w10,w20, kwargs)\n",
    "u_func= utils.normalize_u_function(u_func, kwargs['delta_x'])"
   ]
  },
  {
   "cell_type": "code",
   "execution_count": 9,
   "metadata": {},
   "outputs": [],
   "source": [
    "\n",
    "u_hydr_normalized= utils.normalize_u_function(u_hydr, kwargs['delta_x'])"
   ]
  },
  {
   "cell_type": "code",
   "execution_count": 11,
   "metadata": {},
   "outputs": [
    {
     "data": {
      "image/png": "[encoded data removed]",
      "text/plain": [
       "<Figure size 1800x720 with 1 Axes>"
      ]
     },
     "metadata": {
      "needs_background": "light"
     },
     "output_type": "display_data"
    }
   ],
   "source": [
    "plt.plot(r_grid_reversed,np.array(u_func)**2,'r+', r_grid_reversed,u_hydr_normalized**2,'b-')\n",
    "plt.show()"
   ]
  },
  {
   "cell_type": "code",
   "execution_count": null,
   "metadata": {},
   "outputs": [],
   "source": []
  },
  {
   "cell_type": "code",
   "execution_count": 12,
   "metadata": {},
   "outputs": [],
   "source": [
    "temp= np.abs(np.array(u_func)- u_hydr_normalized)"
   ]
  },
  {
   "cell_type": "code",
   "execution_count": 13,
   "metadata": {},
   "outputs": [
    {
     "data": {
      "text/plain": [
       "array([9.07998640e-04, 9.08242635e-04, 9.08486638e-04, ...,\n",
       "       8.00582647e-04, 4.00699798e-04, 7.36801628e-07])"
      ]
     },
     "execution_count": 13,
     "metadata": {},
     "output_type": "execute_result"
    }
   ],
   "source": [
    "temp"
   ]
  },
  {
   "cell_type": "code",
   "execution_count": null,
   "metadata": {},
   "outputs": [],
   "source": []
  }
 ],
 "metadata": {
  "kernelspec": {
   "display_name": "Python 3",
   "language": "python",
   "name": "python3"
  },
  "language_info": {
   "codemirror_mode": {
    "name": "ipython",
    "version": 3
   },
   "file_extension": ".py",
   "mimetype": "text/x-python",
   "name": "python",
   "nbconvert_exporter": "python",
   "pygments_lexer": "ipython3",
   "version": "3.8.5"
  }
 },
 "nbformat": 4,
 "nbformat_minor": 4
}
